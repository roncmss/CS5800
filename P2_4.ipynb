{
  "nbformat": 4,
  "nbformat_minor": 0,
  "metadata": {
    "colab": {
      "name": "P2_4.ipynb",
      "provenance": [],
      "collapsed_sections": [],
      "include_colab_link": true
    },
    "kernelspec": {
      "name": "python3",
      "display_name": "Python 3"
    },
    "language_info": {
      "name": "python"
    }
  },
  "cells": [
    {
      "cell_type": "markdown",
      "metadata": {
        "id": "view-in-github",
        "colab_type": "text"
      },
      "source": [
        "<a href=\"https://colab.research.google.com/github/roncmss/CS5800/blob/main/P2_4.ipynb\" target=\"_parent\"><img src=\"https://colab.research.google.com/assets/colab-badge.svg\" alt=\"Open In Colab\"/></a>"
      ]
    },
    {
      "cell_type": "markdown",
      "metadata": {
        "id": "-MF0QoG7Vdd1"
      },
      "source": [
        "# <b>Problem #4:</b>\n",
        "### <b>Group:</b> Luyi Xiao, Chen Qiu, Langlun Luo"
      ]
    },
    {
      "cell_type": "code",
      "metadata": {
        "id": "xs3gnZ0_6Wwa"
      },
      "source": [
        "#use shuffle() method from random library to generate random order of boxes\n",
        "import random"
      ],
      "execution_count": 1,
      "outputs": []
    },
    {
      "cell_type": "markdown",
      "metadata": {
        "id": "ZvFXLOjiYKAo"
      },
      "source": [
        "Initalize two arrays: students and boxes to represent 6 students and 6 boxes both initialize in the default order"
      ]
    },
    {
      "cell_type": "code",
      "metadata": {
        "id": "1teJWsih4ihB"
      },
      "source": [
        "students = [\"Artik\", \"Bingyan\", \"Chen\", \"Dishant\", \"Eran\", \"Fangyuan\"]\n",
        "boxes = [\"Artik\", \"Bingyan\", \"Chen\", \"Dishant\", \"Eran\", \"Fangyuan\"]"
      ],
      "execution_count": 2,
      "outputs": []
    },
    {
      "cell_type": "markdown",
      "metadata": {
        "id": "PSIpMLRrZwaK"
      },
      "source": [
        "### <b>Strategy in part(a):</b>"
      ]
    },
    {
      "cell_type": "code",
      "metadata": {
        "id": "5HEMmKan7S1A"
      },
      "source": [
        "\"\"\"\n",
        "function that takes in an array of a permutaion of boxes and return if they can \n",
        "win with strategy in part(a)\n",
        "\"\"\"\n",
        "def strat_a(boxes: list) -> bool:\n",
        "  correct_case = 0  # initialize number of correct case to 0\n",
        "  for i in range(len(students)):\n",
        "    if (i + 1) % 2 == 1:\n",
        "      for j in range(0, 6, 2):  # check results of student at odd positions \n",
        "        if boxes[j] == students[i]:\n",
        "          correct_case += 1\n",
        "    else:\n",
        "      for j in range(1, 7, 2):  # check results of student at even positions \n",
        "        if boxes[j] == students[i]:\n",
        "          correct_case += 1\n",
        "  return correct_case == 6  # return whether the team could win (all 6 atudents got their names)"
      ],
      "execution_count": 3,
      "outputs": []
    },
    {
      "cell_type": "code",
      "metadata": {
        "colab": {
          "base_uri": "https://localhost:8080/"
        },
        "id": "CzRhQmue-SCi",
        "outputId": "12fc2a8c-93e9-498f-a349-a36929919315"
      },
      "source": [
        "# test flight for strat_a() of boxes in defualt order\n",
        "print(boxes)\n",
        "print(strat_a(boxes))"
      ],
      "execution_count": 4,
      "outputs": [
        {
          "output_type": "stream",
          "name": "stdout",
          "text": [
            "['Artik', 'Bingyan', 'Chen', 'Dishant', 'Eran', 'Fangyuan']\n",
            "True\n"
          ]
        }
      ]
    },
    {
      "cell_type": "code",
      "metadata": {
        "colab": {
          "base_uri": "https://localhost:8080/"
        },
        "id": "yCWNXlzn9yIp",
        "outputId": "08827589-3fe9-4c03-82aa-6a912d195bbc"
      },
      "source": [
        "# test strat_(a) after shuffle the order of boxes\n",
        "random.shuffle(boxes)\n",
        "print(boxes)\n",
        "print(strat_a(boxes))"
      ],
      "execution_count": 5,
      "outputs": [
        {
          "output_type": "stream",
          "name": "stdout",
          "text": [
            "['Eran', 'Bingyan', 'Artik', 'Fangyuan', 'Dishant', 'Chen']\n",
            "False\n"
          ]
        }
      ]
    },
    {
      "cell_type": "markdown",
      "metadata": {
        "id": "ljm-PL75eEIF"
      },
      "source": [
        "### <b>Strategy in part(b):</b>"
      ]
    },
    {
      "cell_type": "code",
      "metadata": {
        "id": "NWB0ba9HDRyi"
      },
      "source": [
        "\"\"\"\n",
        "function that takes in an array of a permutaion of boxes and return if they can \n",
        "win with strategy in part(b)\n",
        "\"\"\"\n",
        "def strat_b(boxes: list) -> bool:\n",
        "  correct_case = 0  # initialize number of correct case to 0\n",
        "  for i in range(len(students)):\n",
        "    for j in range(len(boxes)):\n",
        "      if i != j:  # check all the boxes that not in the same position as the studnet\n",
        "        if boxes[j] == students[i]:\n",
        "          correct_case += 1\n",
        "  return correct_case == 6   # return whether the team could win (all 6 students got their names)\n"
      ],
      "execution_count": 6,
      "outputs": []
    },
    {
      "cell_type": "code",
      "metadata": {
        "colab": {
          "base_uri": "https://localhost:8080/"
        },
        "id": "pltMnakJEUQe",
        "outputId": "cf2a65a3-19dd-4acd-dfbf-39c12164690d"
      },
      "source": [
        "# test strat_(b) after shuffle the order of boxes\n",
        "random.shuffle(boxes)\n",
        "print(boxes)\n",
        "print(strat_b(boxes))"
      ],
      "execution_count": 7,
      "outputs": [
        {
          "output_type": "stream",
          "name": "stdout",
          "text": [
            "['Chen', 'Bingyan', 'Eran', 'Fangyuan', 'Artik', 'Dishant']\n",
            "False\n"
          ]
        }
      ]
    },
    {
      "cell_type": "markdown",
      "metadata": {
        "id": "2Rsw1xnVeLW1"
      },
      "source": [
        "### <b>Strategy in part(c):</b>"
      ]
    },
    {
      "cell_type": "code",
      "metadata": {
        "id": "KxmxcNvGIJQO"
      },
      "source": [
        "\"\"\"\n",
        "function that takes in an array of a permutaion of boxes and return if they can \n",
        "win with strategy in part(c)\n",
        "\"\"\"\n",
        "def strat_c(boxes: list) -> bool:\n",
        "  correct_case = 0  # initialize number of correct case to 0 \n",
        "  for i in range(len(students)):\n",
        "    chance = 5 # initilize the number of chances to 5 since 1 student can open up to 5 boxes\n",
        "    curr = boxes[i]\n",
        "    while chance > 0: # while there is still chances left\n",
        "      if curr == students[i]:  #if the student opened the box with his/her own name, correct_case + 1 and jump into next iteration\n",
        "        correct_case += 1\n",
        "        break\n",
        "      else:\n",
        "        curr = boxes[students.index(curr)]  #if the name in the box is not the student, open the next box accordingly, chance - 1\n",
        "        chance -= 1\n",
        "      \n",
        "  return correct_case == 6  # return whether the team could win (all 6 students got their names)"
      ],
      "execution_count": 8,
      "outputs": []
    },
    {
      "cell_type": "code",
      "metadata": {
        "colab": {
          "base_uri": "https://localhost:8080/"
        },
        "id": "2kbh3tqNLO6G",
        "outputId": "c3866ab0-1be0-49f1-ff11-68b494f4c1ae"
      },
      "source": [
        "# test strat_(c) after shuffle the order of boxes\n",
        "random.shuffle(boxes)\n",
        "print(boxes)\n",
        "print(strat_c(boxes))"
      ],
      "execution_count": 9,
      "outputs": [
        {
          "output_type": "stream",
          "name": "stdout",
          "text": [
            "['Chen', 'Bingyan', 'Fangyuan', 'Eran', 'Dishant', 'Artik']\n",
            "True\n"
          ]
        }
      ]
    },
    {
      "cell_type": "markdown",
      "metadata": {
        "id": "9Hs_q2aDfusn"
      },
      "source": [
        "### <b>Strategy in part(d):</b>"
      ]
    },
    {
      "cell_type": "code",
      "metadata": {
        "id": "1LF9qKPPPpsg"
      },
      "source": [
        "\"\"\"\n",
        "function that takes in an array of a permutaion of boxes and return if they can \n",
        "win with strategy in part(d)\n",
        "the logic the same as what in strat_c(), except for reduce the change from \n",
        "5 to 3\n",
        "\"\"\"\n",
        "def strat_d(boxes: list) -> bool:\n",
        "  correct_case = 0\n",
        "  for i in range(len(students)):\n",
        "    chance = 3  # initialize the number of chances to 3 instead of 5 \n",
        "    curr = boxes[i]\n",
        "    while chance > 0:\n",
        "      if curr == students[i]:\n",
        "        correct_case += 1\n",
        "        break\n",
        "      else:\n",
        "        curr = boxes[students.index(curr)]\n",
        "        chance -= 1\n",
        "      \n",
        "  return correct_case == 6"
      ],
      "execution_count": 10,
      "outputs": []
    },
    {
      "cell_type": "code",
      "metadata": {
        "colab": {
          "base_uri": "https://localhost:8080/"
        },
        "id": "H0rfUHLXf0GB",
        "outputId": "89fcd082-ee08-4dbd-b1ca-517ac86627d3"
      },
      "source": [
        "# test strat_(d) after shuffle the order of boxes\n",
        "random.shuffle(boxes)\n",
        "print(boxes)\n",
        "print(strat_d(boxes))"
      ],
      "execution_count": 17,
      "outputs": [
        {
          "output_type": "stream",
          "name": "stdout",
          "text": [
            "['Artik', 'Bingyan', 'Chen', 'Fangyuan', 'Eran', 'Dishant']\n",
            "True\n"
          ]
        }
      ]
    },
    {
      "cell_type": "markdown",
      "metadata": {
        "id": "BhcgDVx6f6_m"
      },
      "source": [
        "### <b>Monte Carlo process of all above strategies:</b>"
      ]
    },
    {
      "cell_type": "code",
      "metadata": {
        "id": "twVA9B25TrRL"
      },
      "source": [
        "\"\"\"\n",
        "function that takes an iteration number and one of the the 4 strategies and\n",
        "return the raio of number of wins that the team got and the total number of \n",
        "iterations (the probability of the tema could win with a corresponding strategy)\n",
        "\"\"\"\n",
        "def brute(iteration: int, func) -> float:\n",
        "  total_number = iteration # the total number of iteration\n",
        "  correct_number = 0 # initialize the correct cases to 0\n",
        "  times = 0 # counter of the cases, initialized to 0\n",
        "  while times < total_number: \n",
        "    random.shuffle(boxes) # create a random permutaion of boxes before each iteration\n",
        "    if func(boxes) == True:\n",
        "      correct_number += 1\n",
        "\n",
        "    times += 1 # increment the counter by 1 after each iteration\n",
        "  \n",
        "  return correct_number / total_number # return the fraction"
      ],
      "execution_count": 12,
      "outputs": []
    },
    {
      "cell_type": "markdown",
      "metadata": {
        "id": "GGZ9leD5jFxs"
      },
      "source": [
        "The probability of team wins for 10 million iterations with strategy in part(a):"
      ]
    },
    {
      "cell_type": "code",
      "metadata": {
        "colab": {
          "base_uri": "https://localhost:8080/"
        },
        "id": "OMcq80CLT173",
        "outputId": "c6c8685a-d539-4fef-ae64-c663bc4d62e2"
      },
      "source": [
        "print(brute(10000000, strat_a))"
      ],
      "execution_count": 13,
      "outputs": [
        {
          "output_type": "stream",
          "name": "stdout",
          "text": [
            "0.0499309\n"
          ]
        }
      ]
    },
    {
      "cell_type": "markdown",
      "metadata": {
        "id": "ockYwXCljaxU"
      },
      "source": [
        "The probability of team wins for 10 million iterations with strategy in part(b):"
      ]
    },
    {
      "cell_type": "code",
      "metadata": {
        "colab": {
          "base_uri": "https://localhost:8080/"
        },
        "id": "u_ALUd7SUIDn",
        "outputId": "ef548faf-cad8-4fe7-cad1-1c2eabfeee0a"
      },
      "source": [
        "print(brute(10000000, strat_b))"
      ],
      "execution_count": 14,
      "outputs": [
        {
          "output_type": "stream",
          "name": "stdout",
          "text": [
            "0.3681705\n"
          ]
        }
      ]
    },
    {
      "cell_type": "markdown",
      "metadata": {
        "id": "lyGHWkaOjbjA"
      },
      "source": [
        "The probability of team wins for 10 million iterations with strategy in part(c):"
      ]
    },
    {
      "cell_type": "code",
      "metadata": {
        "colab": {
          "base_uri": "https://localhost:8080/"
        },
        "id": "ygqjh1jEUK-D",
        "outputId": "835323b1-eca0-4c67-8f46-6103ae9465c1"
      },
      "source": [
        "print(brute(10000000, strat_c))"
      ],
      "execution_count": 15,
      "outputs": [
        {
          "output_type": "stream",
          "name": "stdout",
          "text": [
            "0.8333373\n"
          ]
        }
      ]
    },
    {
      "cell_type": "markdown",
      "metadata": {
        "id": "QVdYULEfjb96"
      },
      "source": [
        "The probability of team wins for 10 million iterations with strategy in part(d):"
      ]
    },
    {
      "cell_type": "code",
      "metadata": {
        "colab": {
          "base_uri": "https://localhost:8080/"
        },
        "id": "uDXZeQeNUNs8",
        "outputId": "80a20945-0367-4994-e868-a20618c6e456"
      },
      "source": [
        "print(brute(10000000, strat_d))"
      ],
      "execution_count": 16,
      "outputs": [
        {
          "output_type": "stream",
          "name": "stdout",
          "text": [
            "0.3832296\n"
          ]
        }
      ]
    }
  ]
}